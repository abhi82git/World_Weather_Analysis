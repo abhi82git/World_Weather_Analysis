{
 "cells": [
  {
   "cell_type": "code",
   "execution_count": 1,
   "id": "d03f163b",
   "metadata": {},
   "outputs": [],
   "source": [
    "# Import the random module.\n",
    "import random"
   ]
  },
  {
   "cell_type": "code",
   "execution_count": 3,
   "id": "d8431856",
   "metadata": {},
   "outputs": [
    {
     "data": {
      "text/plain": [
       "18"
      ]
     },
     "execution_count": 3,
     "metadata": {},
     "output_type": "execute_result"
    }
   ],
   "source": [
    "random.randint(0,100)"
   ]
  },
  {
   "cell_type": "code",
   "execution_count": 9,
   "id": "509d91de",
   "metadata": {},
   "outputs": [
    {
     "data": {
      "text/plain": [
       "22"
      ]
     },
     "execution_count": 9,
     "metadata": {},
     "output_type": "execute_result"
    }
   ],
   "source": [
    "random.randint(-90,90)"
   ]
  },
  {
   "cell_type": "code",
   "execution_count": 10,
   "id": "24505916",
   "metadata": {},
   "outputs": [
    {
     "data": {
      "text/plain": [
       "68.36874941480887"
      ]
     },
     "execution_count": 10,
     "metadata": {},
     "output_type": "execute_result"
    }
   ],
   "source": [
    "random_number = random.randint(-90,89) + random.random()\n",
    "random_number"
   ]
  },
  {
   "cell_type": "markdown",
   "id": "a5af2d34",
   "metadata": {},
   "source": [
    "counter = 1\n",
    "latitude_list = []\n",
    "while counter < 11:\n",
    "    random_latitude = random.randint(-90,89) + random.random()\n",
    "    latitude_list.append(random_latitude)\n",
    "    x += 1\n",
    "latitude_list()"
   ]
  },
  {
   "cell_type": "code",
   "execution_count": 13,
   "id": "12681cfc",
   "metadata": {},
   "outputs": [],
   "source": [
    "counter = 1 \n",
    "latitude_list = [] \n",
    "while counter < 11: \n",
    "    random_latitude = random.randint(-90,89) + random.random() \n",
    "    latitude_list.append(random_latitude) \n",
    "    counter += 1 "
   ]
  },
  {
   "cell_type": "code",
   "execution_count": 14,
   "id": "6f1de40e",
   "metadata": {},
   "outputs": [
    {
     "name": "stdout",
     "output_type": "stream",
     "text": [
      "[27.04099115632545, 46.259589618013, -43.41205724302287, 25.08257660534893, -56.992322890366836, -49.411416175216615, -68.25153947610535, 27.660880025660628, -83.86750756967207, 14.203409449632598]\n"
     ]
    }
   ],
   "source": [
    "print(latitude_list)"
   ]
  },
  {
   "cell_type": "code",
   "execution_count": 15,
   "id": "95847616",
   "metadata": {},
   "outputs": [],
   "source": [
    "# Import the NumPy module.\n",
    "import numpy as np"
   ]
  },
  {
   "cell_type": "code",
   "execution_count": 16,
   "id": "5b4d0f61",
   "metadata": {},
   "outputs": [
    {
     "data": {
      "text/plain": [
       "array([ 66.12696682,  76.17638925, -13.30044936,  -9.50713881,\n",
       "       -88.96814546,  64.93934395,  40.62464799,  62.11282207,\n",
       "        35.44022149, -66.19332896,  75.95695634, -28.90317967,\n",
       "       -64.96328588, -39.0581691 , -36.38980166,  11.56493708,\n",
       "         4.76904332, -45.30529462,  84.87073603,  -4.19827778,\n",
       "       -40.37386425, -79.29077404,  -3.08173637, -55.89841545,\n",
       "        20.25522736,   6.18357122, -43.02559752, -42.0838056 ,\n",
       "        89.05154069, -22.18068268,  28.4606081 ,  51.88994261,\n",
       "       -85.10459593,  60.8764055 ,   3.14322642, -25.3871796 ,\n",
       "        53.76896346,  33.99604057, -51.29944722, -43.0501534 ,\n",
       "        76.42578726, -48.47940596, -75.22814957,  31.72126427,\n",
       "        38.94389125, -29.01069497, -88.81571729,  65.26692346,\n",
       "        89.62184465, -71.96692035])"
      ]
     },
     "execution_count": 16,
     "metadata": {},
     "output_type": "execute_result"
    }
   ],
   "source": [
    "np.random.uniform(-90,90,size = 50)"
   ]
  },
  {
   "cell_type": "code",
   "execution_count": 18,
   "id": "ade965d4",
   "metadata": {},
   "outputs": [
    {
     "name": "stdout",
     "output_type": "stream",
     "text": [
      "14.6 µs ± 88.5 ns per loop (mean ± std. dev. of 7 runs, 100000 loops each)\n"
     ]
    }
   ],
   "source": [
    "# Import timeit.\n",
    "import timeit\n",
    "%timeit np.random.uniform(-90,90,size = 1500)"
   ]
  },
  {
   "cell_type": "code",
   "execution_count": null,
   "id": "1f88beb8",
   "metadata": {},
   "outputs": [],
   "source": []
  }
 ],
 "metadata": {
  "kernelspec": {
   "display_name": "PythonData",
   "language": "python",
   "name": "pythondata"
  },
  "language_info": {
   "codemirror_mode": {
    "name": "ipython",
    "version": 3
   },
   "file_extension": ".py",
   "mimetype": "text/x-python",
   "name": "python",
   "nbconvert_exporter": "python",
   "pygments_lexer": "ipython3",
   "version": "3.7.11"
  }
 },
 "nbformat": 4,
 "nbformat_minor": 5
}
